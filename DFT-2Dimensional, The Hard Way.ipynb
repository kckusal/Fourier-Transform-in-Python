{
  "nbformat": 4,
  "nbformat_minor": 0,
  "metadata": {
    "colab": {
      "name": "Untitled1.ipynb",
      "provenance": [],
      "collapsed_sections": []
    },
    "kernelspec": {
      "name": "python3",
      "display_name": "Python 3"
    }
  },
  "cells": [
    {
      "cell_type": "code",
      "metadata": {
        "id": "AV97hrHTTJTy",
        "colab_type": "code",
        "colab": {
          "base_uri": "https://localhost:8080/",
          "height": 87
        },
        "outputId": "839cb8d9-6fd9-4db3-fb5f-8f023c7c353b"
      },
      "source": [
        "import numpy as np\n",
        "\n",
        "# This one-line function computes two-dimensional FFT of any given list/matrix,\n",
        "# I love Python!\n",
        "def FFT2D(data, inverse=False):\n",
        "  return [[ sum([sum([ data[i][j]*np.exp((1j if inverse else -1j)*2*np.pi*(k_m*i/(len(data))+ k_n*j/(len(data[0])))) for i in range(len(data)) ]) for j in range(len(data[0])) ])/(len(data)*len(data[0]) if inverse else 1) for k_n in range(len(data[0]))]for k_m in range(len(data))]\n",
        "\n",
        "# Done. Proceed below if you want to compare results with numpy FFT results.\n",
        "\n",
        "\n",
        "# Compare with numpy function outputs to see if they produce same results\n",
        "data =  np.random.uniform(0, 255, (11, 28))\n",
        "\n",
        "# Tolerance values for comparing with numpy results\n",
        "rtol=1e-2\n",
        "atol = 1e-1\n",
        "\n",
        "# Note np.around() function merely rounds off the values in numpy array.\n",
        "myfft_result = np.around(FFT2D(data))         # Our fft result\n",
        "npfft_result = np.around(np.fft.fft2(data))   # Numpy fft result\n",
        "\n",
        "print('\\nMy FFT == Numpy FFT: ', np.allclose(myfft_result, npfft_result, rtol, atol))\n",
        "\n",
        "myifft = np.around(FFT2D(myfft_result, inverse=True))   # Our inverse fft result\n",
        "npifft = np.around(np.fft.ifft2(myfft_result))    # Numpy inverse fft result\n",
        "\n",
        "print('\\nMy iFFT == Numpy iFFT: ', np.allclose(npifft, myifft, rtol, atol))\n"
      ],
      "execution_count": 3,
      "outputs": [
        {
          "output_type": "stream",
          "text": [
            "\n",
            "My FFT == Numpy FFT:  True\n",
            "\n",
            "My iFFT == Numpy iFFT:  True\n"
          ],
          "name": "stdout"
        }
      ]
    }
  ]
}